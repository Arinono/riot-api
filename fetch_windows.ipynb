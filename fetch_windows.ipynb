{
 "cells": [
  {
   "cell_type": "code",
   "execution_count": null,
   "metadata": {},
   "outputs": [],
   "source": [
    "import requests as rq\n",
    "import datetime\n",
    "import math\n",
    "API_KEY = \"0TvQnueqKa5mxJntVWt0w4LpLfEkrV1Ta8rQBb9Z\"\n",
    "headers = {\n",
    "    \"x-api-key\": API_KEY\n",
    "}"
   ]
  },
  {
   "cell_type": "code",
   "execution_count": null,
   "metadata": {},
   "outputs": [],
   "source": [
    "match_id = 103936903249772877\n",
    "game_id = match_id + 1\n",
    "params = dict(\n",
    "    # startingTime=mydate_final,\n",
    ")\n",
    "\n",
    "r = rq.get(\n",
    "    url=f\"https://feed.lolesports.com/livestats/v1/window/{game_id}\",\n",
    "    headers=headers,\n",
    "    params=params\n",
    ")\n",
    "r.json()\n",
    "# frames = r.json()[\"frames\"]\n",
    "# frame = frames[-1]\n",
    "# times = [f[\"rfc460Timestamp\"] for f in frames]\n",
    "# time = times[-1]\n",
    "# time"
   ]
  },
  {
   "cell_type": "code",
   "execution_count": null,
   "metadata": {},
   "outputs": [],
   "source": [
    "frame_list = [frame]\n",
    "while frame and frame[\"gameState\"] == \"in_game\":\n",
    "    full_date = time.split('.')[0]\n",
    "    date_time_obj = datetime.datetime.strptime(full_date, \"%Y-%m-%dT%H:%M:%S\")\n",
    "    delta_seconds = datetime.timedelta(seconds=30)\n",
    "    final_time = (date_time_obj + delta_seconds).strftime(\"%Y-%m-%dT%H:%M:%S\")\n",
    "    final_time = final_time[:-1] + \"0Z\"  # Floor seconds + add Z idk why\n",
    "    params = dict(\n",
    "        startingTime=final_time,\n",
    "    )\n",
    "    r2 = rq.get(\n",
    "        url=f\"https://feed.lolesports.com/livestats/v1/window/{game_id}\",\n",
    "        headers=headers,\n",
    "        params=params\n",
    "    )\n",
    "    frame = r2.json()[\"frames\"][-1]\n",
    "    time = frame[\"rfc460Timestamp\"]\n",
    "    frame_list.append(frame)\n",
    "# times2 = [f[\"rfc460Timestamp\"] for f in frames2]\n",
    "[(f[\"rfc460Timestamp\"], f[\"gameState\"]) for f in frame_list]"
   ]
  },
  {
   "cell_type": "code",
   "execution_count": null,
   "metadata": {},
   "outputs": [],
   "source": [
    "def get_team_stats(team, frames):\n",
    "    res = dict()\n",
    "    for key in frames[0][team]:\n",
    "        if key == \"participants\":\n",
    "            res[key] = dict()\n",
    "            for idx, p in enumerate(frames[0][team][\"participants\"]):\n",
    "                p_id = p.get(\"participantId\")\n",
    "                res[key][p_id] = dict()\n",
    "                for k in p:\n",
    "                    if k == \"participantId\":\n",
    "                        continue\n",
    "                    res[key][p_id][k] = [f[team][key][idx][k] for f in frames]\n",
    "        else:\n",
    "            res[key] = [f[team][key] for f in frames]\n",
    "    return res"
   ]
  },
  {
   "cell_type": "code",
   "execution_count": null,
   "metadata": {},
   "outputs": [],
   "source": [
    "\n",
    "final_dict = dict()\n",
    "final_dict[\"timestamps\"] = [f[\"rfc460Timestamp\"] for f in frame_list]\n",
    "# Get blue team infos\n",
    "\n",
    "final_dict[\"blueTeam\"] = get_team_stats(\"blueTeam\", frame_list)\n",
    "final_dict[\"redTeam\"] = get_team_stats(\"redTeam\", frame_list)\n",
    "final_dict[\"blueTeam\"][\"participants\"].keys()"
   ]
  },
  {
   "cell_type": "code",
   "execution_count": null,
   "metadata": {},
   "outputs": [],
   "source": [
    "import json\n",
    "json.dumps(final_dict, separators=(',', ':'))"
   ]
  }
 ],
 "metadata": {
  "interpreter": {
   "hash": "d095a8c3651cbb69cad7ad59ed783cc75766539c197e707b818371eb3de6656a"
  },
  "kernelspec": {
   "display_name": "Python 3.10.0 64-bit ('riot': conda)",
   "name": "python3"
  },
  "language_info": {
   "codemirror_mode": {
    "name": "ipython",
    "version": 3
   },
   "file_extension": ".py",
   "mimetype": "text/x-python",
   "name": "python",
   "nbconvert_exporter": "python",
   "pygments_lexer": "ipython3",
   "version": "3.10.0"
  },
  "orig_nbformat": 4
 },
 "nbformat": 4,
 "nbformat_minor": 2
}
