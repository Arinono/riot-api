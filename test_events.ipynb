{
 "cells": [
  {
   "cell_type": "code",
   "execution_count": null,
   "metadata": {},
   "outputs": [],
   "source": [
    "import requests as rq\n",
    "import datetime\n",
    "import math\n",
    "import pandas as pd\n",
    "API_KEY = \"0TvQnueqKa5mxJntVWt0w4LpLfEkrV1Ta8rQBb9Z\"\n",
    "headers = {\n",
    "    \"x-api-key\": API_KEY\n",
    "}"
   ]
  },
  {
   "cell_type": "code",
   "execution_count": null,
   "metadata": {},
   "outputs": [],
   "source": [
    "params = {\n",
    "    \"hl\": \"en-US\",\n",
    "}\n",
    "all_leagues = rq.get(\"https://esports-api.lolesports.com/persisted/gw/getLeagues\", headers=headers, params=params)\n",
    "leagues = all_leagues.json()['data']['leagues']\n",
    "leagues_df = pd.json_normalize(leagues)\n",
    "leagues_df"
   ]
  },
  {
   "cell_type": "code",
   "execution_count": null,
   "metadata": {},
   "outputs": [],
   "source": [
    "league_id = int(leagues_df.query(\"slug == 'lec'\").reset_index().id[0])\n",
    "league_id"
   ]
  },
  {
   "cell_type": "code",
   "execution_count": null,
   "metadata": {},
   "outputs": [],
   "source": [
    "params = {\n",
    "    \"hl\": \"en-US\",\n",
    "    \"leagueId\": [league_id],\n",
    "}\n",
    "\n",
    "cnt = 0\n",
    "while True:\n",
    "    lec_events = rq.get(\"https://esports-api.lolesports.com/persisted/gw/getSchedule\", headers=headers, params=params)\n",
    "    res_pages = lec_events.json()['data']['schedule']['pages']\n",
    "    res_events = lec_events.json()['data']['schedule']['events']\n",
    "    cnt += 1\n",
    "    if res_pages[\"older\"] is None or cnt > 20:\n",
    "        break\n",
    "    params['pageToken'] = res_pages[\"older\"]\n",
    "\n",
    "print(cnt)\n",
    "res_events"
   ]
  },
  {
   "cell_type": "code",
   "execution_count": null,
   "metadata": {},
   "outputs": [],
   "source": [
    "params = {\n",
    "    \"hl\": \"en-US\",\n",
    "    \"leagueId\": league_id,\n",
    "}\n",
    "print(headers, params)\n",
    "league_tournaments = rq.get(\"https://esports-api.lolesports.com/persisted/gw/getTournamentsForLeague\", headers=headers, params=params)\n",
    "league_tournaments = league_tournaments.json()['data']['leagues'][0]['tournaments']\n",
    "leagues_tournaments_df = pd.json_normalize(league_tournaments)\n",
    "leagues_tournaments_df"
   ]
  },
  {
   "cell_type": "code",
   "execution_count": null,
   "metadata": {},
   "outputs": [],
   "source": [
    "tournament_id = int(leagues_tournaments_df.query(\"slug == 'lec_2020_split1'\").reset_index().id[0])\n",
    "tournament_id"
   ]
  },
  {
   "cell_type": "code",
   "execution_count": null,
   "metadata": {},
   "outputs": [],
   "source": [
    "params = {\n",
    "    \"hl\": \"en-US\",\n",
    "    \"tournamentId\": tournament_id,\n",
    "}\n",
    "\n",
    "tournament_standings = rq.get(\"https://esports-api.lolesports.com/persisted/gw/getStandings\", headers=headers, params=params)\n",
    "tournament_standings.json()"
   ]
  },
  {
   "cell_type": "code",
   "execution_count": null,
   "metadata": {},
   "outputs": [],
   "source": [
    "len(tournament_standings.json()['data']['standings'][0]['stages'])\n",
    "[s['name'] for s in tournament_standings.json()['data']['standings'][0]['stages']]"
   ]
  },
  {
   "cell_type": "code",
   "execution_count": null,
   "metadata": {},
   "outputs": [],
   "source": [
    "params = {\n",
    "    \"hl\": \"en-US\",\n",
    "}\n",
    "\n",
    "teams = rq.get(\"https://esports-api.lolesports.com/persisted/gw/getTeams\", headers=headers, params=params)\n",
    "teams.json()\n",
    "# teams_df = pd.json_normalize(teams.json()['data']['teams'])\n",
    "# teams_df.head(n=20)"
   ]
  }
 ],
 "metadata": {
  "interpreter": {
   "hash": "d095a8c3651cbb69cad7ad59ed783cc75766539c197e707b818371eb3de6656a"
  },
  "kernelspec": {
   "display_name": "Python 3.10.0 64-bit ('riot': conda)",
   "name": "python3"
  },
  "language_info": {
   "codemirror_mode": {
    "name": "ipython",
    "version": 3
   },
   "file_extension": ".py",
   "mimetype": "text/x-python",
   "name": "python",
   "nbconvert_exporter": "python",
   "pygments_lexer": "ipython3",
   "version": "3.10.0"
  },
  "orig_nbformat": 4
 },
 "nbformat": 4,
 "nbformat_minor": 2
}
