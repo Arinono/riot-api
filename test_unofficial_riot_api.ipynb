{
 "cells": [
  {
   "cell_type": "code",
   "execution_count": null,
   "metadata": {},
   "outputs": [],
   "source": [
    "import requests as rq\n",
    "import datetime\n",
    "import math\n",
    "API_KEY = \"0TvQnueqKa5mxJntVWt0w4LpLfEkrV1Ta8rQBb9Z\"\n",
    "headers = {\n",
    "    \"x-api-key\": API_KEY\n",
    "}\n",
    "# API_KEY = \"RGAPI-d6e47b76-99e1-47a1-a692-0d7f6398856c\"\n",
    "# headers = {\n",
    "#     \"X-Riot-Token\": API_KEY\n",
    "# }\n"
   ]
  },
  {
   "cell_type": "code",
   "execution_count": null,
   "metadata": {},
   "outputs": [],
   "source": [
    "params = {\n",
    "    \"hl\": \"en-US\"\n",
    "}\n",
    "r = rq.get(\"https://esports-api.lolesports.com/persisted/gw/getCompletedEvents\", headers=headers, params=params)\n",
    "r"
   ]
  },
  {
   "cell_type": "code",
   "execution_count": null,
   "metadata": {},
   "outputs": [],
   "source": [
    "data = r.json()['data']\n",
    "data"
   ]
  },
  {
   "cell_type": "code",
   "execution_count": null,
   "metadata": {},
   "outputs": [],
   "source": [
    "mydate = datetime.datetime.now()\n",
    "minute = datetime.timedelta(minutes=120)\n",
    "print(mydate, minute)\n",
    "mydate_final = (mydate - minute).strftime(\"%Y-%m-%dT%H:%M:%S\")\n",
    "print(mydate_final)\n",
    "head = mydate_final[:-2]\n",
    "tail = round(int(mydate_final[-2:]), -1)\n",
    "sec = str(tail)\n",
    "if len(sec) < 2:\n",
    "    sec = '0' + sec\n",
    "mydate_final = head + str(sec) + 'Z'\n",
    "mydate_final"
   ]
  },
  {
   "cell_type": "code",
   "execution_count": null,
   "metadata": {},
   "outputs": [],
   "source": [
    "# 2009-07-12 11:03:12+02:00\n",
    "\n",
    "params = {\n",
    "    \"gameId\": 106926282335055890,\n",
    "    \"startingTime\": mydate_final\n",
    "}\n",
    "r = rq.get(\"https://feed.lolesports.com/livestats/v1/window/106926282335055890\", headers=headers, params=params)\n",
    "r"
   ]
  },
  {
   "cell_type": "code",
   "execution_count": null,
   "metadata": {},
   "outputs": [],
   "source": [
    "r.json()"
   ]
  },
  {
   "cell_type": "code",
   "execution_count": null,
   "metadata": {},
   "outputs": [],
   "source": [
    "\n",
    "params = {\n",
    "    \"gameId\": 106926282335055890,\n",
    "    # \"startingTime\": mydate_final\n",
    "}\n",
    "\n",
    "# r = rq.get(\"https://europe.api.riotgames.com/riot/account/v1/accounts/me\", headers=headers)\n",
    "r = rq.get(\"https://europe.api.riotgames.com/lol/match/v5/matches/106926282335055885\", headers=headers)\n",
    "r"
   ]
  },
  {
   "cell_type": "code",
   "execution_count": null,
   "metadata": {},
   "outputs": [],
   "source": [
    "r.json()"
   ]
  },
  {
   "cell_type": "code",
   "execution_count": null,
   "metadata": {},
   "outputs": [],
   "source": [
    "params = {\n",
    "    \"startingTime\": mydate_final\n",
    "}\n",
    "r = rq.get(\"https://feed.lolesports.com/livestats/v1/details/106926282335055890\", headers=headers, params=params)\n",
    "r"
   ]
  },
  {
   "cell_type": "code",
   "execution_count": null,
   "metadata": {},
   "outputs": [],
   "source": [
    "r.json()"
   ]
  }
 ],
 "metadata": {
  "interpreter": {
   "hash": "d095a8c3651cbb69cad7ad59ed783cc75766539c197e707b818371eb3de6656a"
  },
  "kernelspec": {
   "display_name": "Python 3.10.0 64-bit ('riot': conda)",
   "name": "python3"
  },
  "language_info": {
   "codemirror_mode": {
    "name": "ipython",
    "version": 3
   },
   "file_extension": ".py",
   "mimetype": "text/x-python",
   "name": "python",
   "nbconvert_exporter": "python",
   "pygments_lexer": "ipython3",
   "version": "3.10.0"
  },
  "orig_nbformat": 4
 },
 "nbformat": 4,
 "nbformat_minor": 2
}
