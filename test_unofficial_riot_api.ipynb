{
 "cells": [
  {
   "cell_type": "code",
   "execution_count": null,
   "metadata": {},
   "outputs": [],
   "source": [
    "import requests as rq\n",
    "import datetime\n",
    "import math\n",
    "API_KEY = \"0TvQnueqKa5mxJntVWt0w4LpLfEkrV1Ta8rQBb9Z\"\n",
    "headers = {\n",
    "    \"x-api-key\": API_KEY\n",
    "}\n",
    "# API_KEY = \"RGAPI-d6e47b76-99e1-47a1-a692-0d7f6398856c\"\n",
    "# headers = {\n",
    "#     \"X-Riot-Token\": API_KEY\n",
    "# }\n"
   ]
  },
  {
   "cell_type": "code",
   "execution_count": null,
   "metadata": {},
   "outputs": [],
   "source": [
    "# Get tournaments\n",
    "params = dict(\n",
    "    hl=\"en-US\",\n",
    "    leagueId=105266103462388553\n",
    ")\n",
    "league_tournaments = rq.get(\n",
    "    url=\"https://esports-api.lolesports.com/persisted/gw/getTournamentsForLeague\",\n",
    "    headers=headers,\n",
    "    params=params\n",
    ")\n",
    "league_tournaments.json()['data']['leagues'][0]['tournaments']"
   ]
  },
  {
   "cell_type": "code",
   "execution_count": null,
   "metadata": {},
   "outputs": [],
   "source": [
    "# Get standings for tournaments\n",
    "params = dict(\n",
    "    hl=\"en-US\",\n",
    "    tournamentId=105568157420311272,\n",
    ")\n",
    "tournament_standings = rq.get(\n",
    "    url=\"https://esports-api.lolesports.com/persisted/gw/getStandings\",\n",
    "    headers=headers,\n",
    "    params=params\n",
    ")\n",
    "standings = tournament_standings.json()['data']['standings'][0][\"stages\"]\n",
    "standings"
   ]
  },
  {
   "cell_type": "code",
   "execution_count": null,
   "metadata": {},
   "outputs": [],
   "source": [
    "# Get all matches from standings ?\n",
    "regular_season = [s for s in standings if s[\"slug\"] == \"regular_season\"][0]\n",
    "regular_season = regular_season[\"sections\"][0]\n",
    "matches = regular_season[\"matches\"]\n",
    "matches"
   ]
  },
  {
   "cell_type": "code",
   "execution_count": null,
   "metadata": {},
   "outputs": [],
   "source": [
    "mydate = datetime.datetime.now()\n",
    "minute = datetime.timedelta(minutes=120)\n",
    "print(mydate, minute)\n",
    "mydate_final = (mydate - minute).strftime(\"%Y-%m-%dT%H:%M:%S\")\n",
    "print(mydate_final)\n",
    "head = mydate_final[:-2]\n",
    "tail = round(int(mydate_final[-2:]), -1)\n",
    "sec = str(tail)\n",
    "if len(sec) < 2:\n",
    "    sec = '0' + sec\n",
    "mydate_final = head + str(sec) + 'Z'\n",
    "mydate_final"
   ]
  },
  {
   "cell_type": "code",
   "execution_count": null,
   "metadata": {},
   "outputs": [],
   "source": [
    "match = matches[0]\n",
    "params = dict(\n",
    "    startingTime=mydate_final,\n",
    ")\n",
    "# match 105568157422015211\n",
    "# https://feed.lolesports.com/livestats/v1/details/{gameId}\n",
    "r = rq.get(\n",
    "    url=f\"https://feed.lolesports.com/livestats/v1/details/{int(match['id']) + 1}\",\n",
    "    headers=headers,\n",
    "    params=params\n",
    ")\n",
    "frames = r.json()[\"frames\"]"
   ]
  },
  {
   "cell_type": "code",
   "execution_count": null,
   "metadata": {},
   "outputs": [],
   "source": [
    "match"
   ]
  },
  {
   "cell_type": "code",
   "execution_count": null,
   "metadata": {},
   "outputs": [],
   "source": [
    "len(frames)\n",
    "# [f[\"rfc460Timestamp\"] for f in frames]\n",
    "last_frame = frames[-1]\n",
    "last_frame"
   ]
  },
  {
   "cell_type": "code",
   "execution_count": null,
   "metadata": {},
   "outputs": [],
   "source": [
    "params = dict(\n",
    "    startingTime=mydate_final,\n",
    ")\n",
    "\n",
    "r = rq.get(\n",
    "    url=f\"https://feed.lolesports.com/livestats/v1/window/{int(match['id']) + 1}\",\n",
    "    headers=headers,\n",
    "    params=params\n",
    ")\n",
    "game_data = r.json()\n",
    "game = game_data[\"gameMetadata\"]\n",
    "frames_game = game_data[\"frames\"]"
   ]
  },
  {
   "cell_type": "code",
   "execution_count": null,
   "metadata": {},
   "outputs": [],
   "source": [
    "game"
   ]
  },
  {
   "cell_type": "code",
   "execution_count": null,
   "metadata": {},
   "outputs": [],
   "source": [
    "# [f[\"rfc460Timestamp\"] for f in frames_game]\n",
    "last_frame_game = frames_game[-1]\n",
    "last_frame_game"
   ]
  },
  {
   "cell_type": "code",
   "execution_count": null,
   "metadata": {},
   "outputs": [],
   "source": [
    "merged_last_frame = last_frame.copy()\n",
    "merged_last_frame.update(last_frame_game)\n",
    "merged_last_frame"
   ]
  },
  {
   "cell_type": "code",
   "execution_count": null,
   "metadata": {},
   "outputs": [],
   "source": [
    "# Merge data from match details + game window => team stats + players stats\n",
    "# Last frame = final state of the game\n",
    "game[\"final_state\"] = merged_last_frame\n",
    "game\n"
   ]
  },
  {
   "cell_type": "code",
   "execution_count": null,
   "metadata": {},
   "outputs": [],
   "source": [
    "game.keys()"
   ]
  },
  {
   "cell_type": "code",
   "execution_count": null,
   "metadata": {},
   "outputs": [],
   "source": [
    "# Refacto tout pour que ca soit plus propre maintenant\n",
    "# Blue team\n",
    "#   team data\n",
    "#   players\n",
    "#       player data\n",
    "# Red team\n",
    "#   team data\n",
    "#   players\n",
    "#       player data\n",
    "from copy import deepcopy\n",
    "g_data = deepcopy(game)\n"
   ]
  },
  {
   "cell_type": "code",
   "execution_count": null,
   "metadata": {},
   "outputs": [],
   "source": [
    "# 2009-07-12 11:03:12+02:00\n",
    "\n",
    "params = dict(\n",
    "    hl=\"en-US\",\n",
    "    tournamentId=103936903203607374,\n",
    ")\n",
    "r = rq.get(\"https://esports-api.lolesports.com/persisted/gw/getCompletedEvents\", headers=headers, params=params)\n",
    "r.json()"
   ]
  },
  {
   "cell_type": "code",
   "execution_count": null,
   "metadata": {},
   "outputs": [],
   "source": [
    "r.json()"
   ]
  },
  {
   "cell_type": "code",
   "execution_count": null,
   "metadata": {},
   "outputs": [],
   "source": [
    "\n",
    "params = {\n",
    "    \"gameId\": 106926282335055890,\n",
    "    # \"startingTime\": mydate_final\n",
    "}\n",
    "\n",
    "# r = rq.get(\"https://europe.api.riotgames.com/riot/account/v1/accounts/me\", headers=headers)\n",
    "r = rq.get(\"https://europe.api.riotgames.com/lol/match/v5/matches/106926282335055885\", headers=headers)\n",
    "r"
   ]
  },
  {
   "cell_type": "code",
   "execution_count": null,
   "metadata": {},
   "outputs": [],
   "source": [
    "r.json()"
   ]
  },
  {
   "cell_type": "code",
   "execution_count": null,
   "metadata": {},
   "outputs": [],
   "source": [
    "params = {\n",
    "    \"startingTime\": mydate_final\n",
    "}\n",
    "r = rq.get(\"https://feed.lolesports.com/livestats/v1/details/106926282335055890\", headers=headers, params=params)\n",
    "r"
   ]
  },
  {
   "cell_type": "code",
   "execution_count": null,
   "metadata": {},
   "outputs": [],
   "source": [
    "r.json()"
   ]
  }
 ],
 "metadata": {
  "interpreter": {
   "hash": "d095a8c3651cbb69cad7ad59ed783cc75766539c197e707b818371eb3de6656a"
  },
  "kernelspec": {
   "display_name": "Python 3.10.0 64-bit ('riot': conda)",
   "name": "python3"
  },
  "language_info": {
   "codemirror_mode": {
    "name": "ipython",
    "version": 3
   },
   "file_extension": ".py",
   "mimetype": "text/x-python",
   "name": "python",
   "nbconvert_exporter": "python",
   "pygments_lexer": "ipython3",
   "version": "3.10.0"
  },
  "orig_nbformat": 4
 },
 "nbformat": 4,
 "nbformat_minor": 2
}
